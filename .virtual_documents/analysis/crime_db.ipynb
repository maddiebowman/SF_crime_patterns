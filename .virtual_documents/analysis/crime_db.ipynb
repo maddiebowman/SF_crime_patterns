#******************************************
#** Data Boocamp January 2024 cohort     **
#**                                      **
#** Project #3: San Francisco Crime Data **
#**                                      **
#** M. Bowman, B. Lee, S. Kikuchi, M. Dai**
#** J. Wang, J. Bein                     **
#**                                      **
#******************************************


#*******************************************
#** This file is intended to be downloaded**
#** by each member of the group. The code **
#** is in two parts:                      **
#** Part #1: The data is imported, cleaned**
#** and prepared for exporting to a       **
#** MongoDB.                              **
#**                                       **
#**                                       **
#** Part #2: A local MongoDB will be      **
#** created, and a collection added to    **
#** that database. Lastly, the source data**
#** will be imported into the db.         **
#**                                       **
#*******************************************

#***************************
#** last edited 23MAY2024 **
#***************************


#*****************************
#** import the dependencies **
#*****************************

#uncomment the install line if you don't have PyMongo installed on your device.
!pip install pymongo 
from pymongo import MongoClient
import pandas as pd               #this will be needed to manipulate dataframes
import os                         #this module used to create file paths across operating systems
import csv                        #this module is used for reading CSV files


#******************************
#** PART ONE: DATA WRANGLING **
#******************************


#**************************************************
#** read the source data into a Pandas dataframe **
#**************************************************

csvpath = os.path.join("Police_Department_Incident_Reports.csv")    #a variable to hold the path to the CSV file
crime_df = pd.read_csv(csvpath)      #the dataframe holding the original (sample) set of data

# Display the first few rows of the DataFrame
print(crime_df.head())


#**************************************************
# check that the data was imported successfully  **
#**************************************************

num_rows = len(crime_df)
print("Number of rows in the DataFrame:", num_rows)


#*******************************************
#** determine the datatypes in each column**
#*******************************************
print(crime_df.dtypes)





#***************************
#** drop unneeded columns: *
#***************************

print("Original DataFrame:")
print("-------------------")
print(crime_df.dtypes)

columns_to_drop = ['Report Datetime',
                   'Row ID',
                   'Incident ID',
                   'Incident Number',
                   'CAD Number',
                   'Report Type Code',
                   'Report Type Description',
                   'Filed Online',
                   'Incident Code',
                   'Intersection',
                   'CNN',
                   'Police District',
                   'Supervisor District',
                   'Supervisor District 2012',
                   'Point',
                   'ESNCAG - Boundary File',
                   'Central Market/Tenderloin Boundary Polygon - Updated',
                   'Civic Center Harm Reduction Project Boundary',
                   'HSOC Zones as of 2018-06-05',
                   'Invest In Neighborhoods (IIN) Areas',
                   'Current Supervisor Districts',
                   'Current Police Districts',
                   ]

crime_new_df = crime_df.drop(columns=columns_to_drop)

print("\nNew DataFrame:")
print("-------------------")
print(crime_new_df.dtypes)



#*************************
#** check new DataFrame **
#*************************
crime_new_df.head(5)


# Remove rows with null values
crime_new_df = crime_new_df.dropna()
crime_new_df.head(5)
num_rows = len(crime_new_df)
print("Number of rows in the DataFrame:", num_rows)


#*********************************************
#** obtain the unique incident descriptions **
#*********************************************

unique_counts = crime_new_df["Incident Category"].value_counts()
unique_incidents_df = pd.DataFrame(unique_counts.items(), columns=["Unique_Values", "Counts"])
unique_incidents_df


unique_incidents_df.to_csv("incident_categories.csv", index=False)


#********************************************
#** drop categories that aren't of interest**
#** for this project.                      **
#********************************************

keep_categories = ['Larceny Theft',
                   'Malicious Mischief',
                   'Assault',
                   'Burglary',
                   'Motor Vehicle Theft',
                   'Drug Offense',
                   'Robbery',
                   'Missing Person',
                   'Offences Against The Family And Children',
                   'Weapons Offense',
                   'Arson',
                   'Vandalism',
                   'Sex Offense',
                   'Prostitution',
                   'Rape',
                   'Homicide',
                   'Human Trafficking (A), Commercial Sex Acts',
                   'Human Trafficking, Commercial Sex Acts',
                   'Human Trafficking (B), Involuntary Servitude']

#keep_categories = ['Larceny Theft']



num_rows = len(crime_new_df)
print("Number of rows in the DataFrame:", num_rows)
print("-----------------------------------")
crime_new02_df=crime_new_df
crime_new02_df = crime_new_df.loc[crime_new_df['Incident Category'].isin(keep_categories)]
#crime_new02_df.head(5)
num_rows_new = len(crime_new02_df)
print("Number of rows in the DataFrame:", num_rows_new)



#**********************************************
# ** export the filtered dataframe to CSV    **
# ** This CSV might enable team members to   **
# ** progress with their parts of the project**
#**********************************************

crime_new02_df.to_csv("crime_new02.csv", index=False)


#*******************************************
#** separate the data into records by year**
#*******************************************

#**************************************************
#** first, count the number of incidents per year**
#**************************************************

year_unique_counts = crime_new02_df["Incident Year"].value_counts()
year_unique_counts_df = pd.DataFrame(year_unique_counts.items(), columns=["Unique_Values", "Counts"])
year_unique_counts_df


#***************************************************
#** second, set the seed value and the sample size**
#***************************************************

random_seed = 24      # the last two digits of the current year
sample_size = 1429    #1,429 records per year x 7 years =  10,003 records total

#group the incident data by Incident Year
grouped = crime_new_df.groupby("Incident Year")

#create an empty DataFrame to store the sampled data
sampled_data = pd.DataFrame()

#now, iterate through each of the groups and sample the data
for year, group_data in grouped:
    sampled_year_data = group_data.sample(n=sample_size, random_state=random_seed)
    sampled_data = pd.concat([sampled_data, sampled_year_data])

# Reset the index of the final sampled DataFrame
sampled_data.reset_index(drop=True, inplace=True)
sampled_data.head(10)


#*********************************************************
#** The sampled data is what we'll use for the project. **
#** Export the sampled data to CSV.                     **
#*********************************************************

sampled_data.to_csv("sample_data_by_year.csv", index=False)


#*********************************
#** PART TWO: DATABASE CREATION **
#*********************************


#******************************
#** 1. connect to MongoDB    **
#** 2. create the database   **
#** 3.  add the collection   **
#******************************

client = MongoClient('mongodb://localhost:27017/')
db = client["crime_db"]      #this creates a Mongo database named "crime_db"
db.drop_collection("incidents") #this drops the collection if it already exists - so records aren't duplicated.
collection = db["incidents"] #this creates a collection named "incidents" within the Mongo database


#**********************************
#** import the source data to    **
#** the collection created in the**
#** previous step                **
#**********************************

with open('sample_data_by_year.csv','r') as file:
    reader = csv.DictReader(file)
    data = []
    for row in reader:
        data.append(row)
        
collection.insert_many(data)
print("sample data imported into the MongoDB collection successfully!")



