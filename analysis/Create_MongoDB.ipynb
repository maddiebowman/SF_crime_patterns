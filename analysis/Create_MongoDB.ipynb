{
 "cells": [
  {
   "cell_type": "code",
   "execution_count": 1,
   "id": "2472d260-2d19-4922-bcf6-4c879b6fde20",
   "metadata": {},
   "outputs": [],
   "source": [
    "#*******************************************\n",
    "#**      Project 3, continued             **\n",
    "#**                                       **\n",
    "#** this file is intended to be downloaded**\n",
    "#** by each member of the group. When the **\n",
    "#** code is executed, a local MongoDB will**\n",
    "#** be created, and a collection added to **\n",
    "#** to that db.                           **\n",
    "#**                                       **\n",
    "#** last edited 2OMAY2024                 **\n",
    "#*******************************************\n"
   ]
  },
  {
   "cell_type": "code",
   "execution_count": 2,
   "id": "9b047fb8-e7d1-40f5-892f-7d51c50d52dd",
   "metadata": {},
   "outputs": [],
   "source": [
    "#*************************\n",
    "#** import dependencies **\n",
    "#*************************\n",
    "#uncomment this line if you don't have PyMongo installed on your device.\n",
    "#!pip install pymongo\n",
    "from pymongo import MongoClient\n",
    "import csv"
   ]
  },
  {
   "cell_type": "code",
   "execution_count": 3,
   "id": "f8f5589b-de2b-4410-864e-46c1fee26c1c",
   "metadata": {},
   "outputs": [],
   "source": [
    "#******************************\n",
    "#** 1. connect to MongoDB    **\n",
    "#** 2. create the database   **\n",
    "#** 3.  add the collection   **\n",
    "#******************************\n",
    "\n",
    "client = MongoClient('mongodb://localhost:27017/')\n",
    "db = client[\"crime_db_test\"]      #this creates a Mongo database named \"crime_db\"\n",
    "collection = db[\"incidents\"] #this creates a collection named \"incidents\" within the Mongo database\n"
   ]
  },
  {
   "cell_type": "code",
   "execution_count": 4,
   "id": "9102b5b5-112c-4cc1-9da3-28b5b79f7aa3",
   "metadata": {},
   "outputs": [
    {
     "name": "stdout",
     "output_type": "stream",
     "text": [
      "sample data imported into the MongoDB collection successfully!\n"
     ]
    }
   ],
   "source": [
    "#**********************************\n",
    "#** import the source data to    **\n",
    "#** the collection created in the**\n",
    "#** previous step                **\n",
    "#**********************************\n",
    "\n",
    "with open('sample_data_by_year.csv','r') as file:\n",
    "    reader = csv.DictReader(file)\n",
    "    data = []\n",
    "    for row in reader:\n",
    "        data.append(row)\n",
    "        \n",
    "collection.insert_many(data)\n",
    "print(\"sample data imported into the MongoDB collection successfully!\")"
   ]
  },
  {
   "cell_type": "code",
   "execution_count": null,
   "id": "a8b86ee5-d512-4638-bbc1-ab2605aa3d57",
   "metadata": {},
   "outputs": [],
   "source": []
  }
 ],
 "metadata": {
  "kernelspec": {
   "display_name": "Python 3 (ipykernel)",
   "language": "python",
   "name": "python3"
  },
  "language_info": {
   "codemirror_mode": {
    "name": "ipython",
    "version": 3
   },
   "file_extension": ".py",
   "mimetype": "text/x-python",
   "name": "python",
   "nbconvert_exporter": "python",
   "pygments_lexer": "ipython3",
   "version": "3.10.13"
  }
 },
 "nbformat": 4,
 "nbformat_minor": 5
}
