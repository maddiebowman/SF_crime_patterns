import pandas as pd

# Load the data
data = pd.read_csv('heatmapdata.csv')
df = pd.DataFrame(data)


df


# Display basic statistics
stats = df.describe()
stats


import pandas as pd
import matplotlib.pyplot as plt
import seaborn as sns

df.set_index('category', inplace=True)

# Plotting the heatmap
plt.figure(figsize=(10, 8))
sns.heatmap(df, annot=True, cmap='coolwarm', fmt="d", linewidths=.5)
plt.title('Heatmap of Activity by Day and Time')
plt.xlabel('Day of the Week')
plt.ylabel('Time of Day')
plt.savefig("Heatmap by Day and Time")



import pandas as pd
import matplotlib.pyplot as plt
import seaborn as sns

df = pd.DataFrame(data)
df.set_index('category', inplace=True)

# Convert the DataFrame from wide to long format
df_long = df.reset_index().melt(id_vars='category', var_name='Day', value_name='Incidents')

# Plotting the box plot
plt.figure(figsize=(12, 8))
sns.boxplot(x='Day', y='Incidents',data=df_long)
plt.title('Box Plot of Incidents by Day of the Week')
plt.xlabel('Day of the Week')
plt.ylabel('Number of Incidents')
plt.show()



import pandas as pd
import seaborn as sns
import matplotlib.pyplot as plt

df = pd.DataFrame(data)

# Melt the DataFrame to long format
df_long = df.melt(id_vars='category', var_name='Day', value_name='Incidents')

# Aggregate data by category, ignoring the specific days
aggregated_data = df_long.groupby('category')['Incidents'].apply(list).reset_index()

# Exploding the list to separate rows for plotting
exploded_data = aggregated_data.explode('Incidents')

# Plotting the box plot
plt.figure(figsize=(10, 6))
sns.boxplot(x='category', y='Incidents', data=exploded_data)
plt.title('Box Plot of Incidents by Time of Day')
plt.xlabel('Time of Day')
plt.ylabel('Number of Incidents')
plt.show()




